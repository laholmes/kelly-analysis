{
 "cells": [
  {
   "cell_type": "markdown",
   "metadata": {},
   "source": [
    "# Kelly criterion return-vol tradeoff\n",
    "Examining the tradeoff between returns and volatility when using the Kelly criterion to size bets.\n",
    "\n",
    "The Kelly criterion defines an optimal betsize - one that maximises the log growth rate across a series of bets. \n",
    "\n",
    "In the simple case, we consider a fixed probability of winning and a fixed price (thus assuming some fixed price)."
   ]
  },
  {
   "cell_type": "code",
   "execution_count": 41,
   "metadata": {
    "collapsed": true
   },
   "outputs": [],
   "source": [
    "from IPython.display import display, Math, Latex"
   ]
  },
  {
   "cell_type": "markdown",
   "metadata": {},
   "source": [
    "Kelly maximises the log growth rate as the returns for a series of sequential bets are multiplicative. \n",
    "So we can take the exponential of the log returns.\n",
    "\n",
    "For p = prob of win, b = price, the expected log return is"
   ]
  },
  {
   "cell_type": "code",
   "execution_count": 42,
   "metadata": {},
   "outputs": [
    {
     "data": {
      "text/latex": [
       "$$E(log(X))=plog(1+bx)+(1−p)log(1−x)$$"
      ],
      "text/plain": [
       "<IPython.core.display.Math object>"
      ]
     },
     "metadata": {},
     "output_type": "display_data"
    }
   ],
   "source": [
    "display(Math(r'E(log(X))=plog(1+bx)+(1−p)log(1−x)'))"
   ]
  },
  {
   "cell_type": "markdown",
   "metadata": {},
   "source": [
    "Maximising gives us a Kelly bet size of:"
   ]
  },
  {
   "cell_type": "code",
   "execution_count": 43,
   "metadata": {},
   "outputs": [
    {
     "data": {
      "text/latex": [
       "$$(pb - (1-p)) / b$$"
      ],
      "text/plain": [
       "<IPython.core.display.Math object>"
      ]
     },
     "metadata": {},
     "output_type": "display_data"
    }
   ],
   "source": [
    "display(Math(r'(pb - (1-p)) / b'))"
   ]
  },
  {
   "cell_type": "markdown",
   "metadata": {},
   "source": [
    "There's a nice heuristic derivation that I always liked, here https://en.wikipedia.org/wiki/Kelly_criterion#Proof (calculate amount won with optimal size and introdue a delta to size, differentiate w.r.t. delta and show delta = 0 at the max).\n",
    "\n",
    "You could also approximate by taking the first two terms of the Taylor expansion of log(1+x), and maximising. This may or may not be a valid approximation, depending on the distribution of returns, e.g. it would be inaccurate if the returns are positively skewed."
   ]
  },
  {
   "cell_type": "code",
   "execution_count": 44,
   "metadata": {},
   "outputs": [
    {
     "data": {
      "text/latex": [
       "$$log(1+x) = \\sum_{n=1}^{\\infty} (-1)^{n+1} \\dfrac{x^n}n, \\left|x\\right|  \\leqslant 1, x \\neq -1$$"
      ],
      "text/plain": [
       "<IPython.core.display.Math object>"
      ]
     },
     "metadata": {},
     "output_type": "display_data"
    }
   ],
   "source": [
    "display(Math(r'log(1+x) = \\sum_{n=1}^{\\infty} (-1)^{n+1} \\dfrac{x^n}n, \\left|x\\right|  \\leqslant 1, x \\neq -1'))"
   ]
  },
  {
   "cell_type": "markdown",
   "metadata": {},
   "source": [
    "## Simulation\n",
    "For our simulation, we select a fixed predicted %, assume a fixed 3% edge on the market and simulate multiple Kelly bets. We then select another fixed predicted %, and re-run the simulation.\n",
    "\n",
    "We calculate mean and std of returns, though we could find the average rate of return by using the exponential\n",
    "of the expected log return (as described here http://www.elem.com/~btilly/kelly-criterion/)\n",
    "\n",
    "Measuring the variance of returns is important as appetite for vol varies (thus it may make sense to bet less than the theoretical optimal amount), though we can't ever go broke (assuming we have a positive edge on the market), as The Kelly Criterion prescribes a bet of a proportion of the bankroll.\n",
    "\n",
    "The log of returns over a large sample is normally distributed, by the Central Limit Theorem."
   ]
  },
  {
   "cell_type": "code",
   "execution_count": 49,
   "metadata": {
    "collapsed": true
   },
   "outputs": [],
   "source": [
    "import numpy as np\n",
    "import pandas as pd\n",
    "import matplotlib.pyplot as plt"
   ]
  },
  {
   "cell_type": "code",
   "execution_count": 53,
   "metadata": {
    "collapsed": true
   },
   "outputs": [],
   "source": [
    "# parameterisation\n",
    "start_bankroll = 10000\n",
    "trade_count = 10000\n",
    "# we assume our prediction is perfect\n",
    "win_prob = 0.53 \n",
    "# assume 3% edge\n",
    "price = 0.50\n",
    "dec_price = 1/price - 1"
   ]
  },
  {
   "cell_type": "code",
   "execution_count": 55,
   "metadata": {},
   "outputs": [],
   "source": [
    "def run_trials(win_prob, bankroll, trade_count, dec_price):\n",
    "    std = []\n",
    "    mean = []\n",
    "    for y in range(0,50):\n",
    "        bankroll = []\n",
    "        returns = []\n",
    "        df = pd.DataFrame()\n",
    "        for i in range(0, trade_count):\n",
    "            if i == 0:\n",
    "                step_bankroll = start_bankroll\n",
    "            else:\n",
    "                step_bankroll = bankroll[i-1]\n",
    "            kelly_prop = (win_prob * (dec_price+1) - 1) / dec_price\n",
    "            win = np.random.rand() <= win_prob\n",
    "            trade_size = kelly_prop*step_bankroll\n",
    "            profit = dec_price*trade_size if win else -1*trade_size\n",
    "            returns.append(profit/step_bankroll)\n",
    "            step_bankroll += profit\n",
    "            bankroll.append(step_bankroll)\n",
    "\n",
    "        df['bankroll'] = bankroll\n",
    "        df['return'] = returns\n",
    "        std.append(np.std(df['return']))\n",
    "        mean.append(np.mean(df['return']))\n",
    "        plt.plot(df['bankroll'][0:1000])    \n",
    "\n",
    "    var = [i**2 for i in std]\n",
    "    av_var = sum(var) / len(var)\n",
    "    av_down_var =  var[var < 0].sum() / len(var)\n",
    "    av_down_std = av_down_var ** 0.5\n",
    "    av_std = av_var**0.5\n",
    "    av_mean = np.mean(mean)\n",
    "# turn on plot to view individual trial results, can also plot std for each trial - and see that Kelly results in\n",
    "# a highly volatile return. this can be temped (at a cost in terms of expected return) by using fractional Kelly\n",
    "# i.e. applying a fixed fractional multiplier to the Kelly-prescribed bet amount. 1/2 is a commonly used multiplier.\n",
    "#     plt.show()\n",
    "    return {'win_prob': win_prob,'std': av_std, 'down_std': av_down_std, 'mean': av_mean}"
   ]
  },
  {
   "cell_type": "code",
   "execution_count": 56,
   "metadata": {
    "collapsed": true
   },
   "outputs": [],
   "source": [
    "result = pd.DataFrame()\n",
    "for x in np.arange(0.05, 1, 0.05):\n",
    "    start_bankroll = 10000\n",
    "    trade_count = 10000\n",
    "    win_prob = x\n",
    "    # assume 3% edge\n",
    "    price = x - 0.03\n",
    "    dec_price = 1/price - 1\n",
    "    result = result.append(run_trials(win_prob, start_bankroll, trade_count, dec_price), ignore_index=True)"
   ]
  },
  {
   "cell_type": "code",
   "execution_count": 57,
   "metadata": {},
   "outputs": [
    {
     "data": {
      "image/png": "[encoded data removed]",
      "text/plain": [
       "<matplotlib.figure.Figure at 0x10cfd07d0>"
      ]
     },
     "metadata": {},
     "output_type": "display_data"
    }
   ],
   "source": [
    "plt.plot(result['win_prob'], result['mean'])\n",
    "plt.show()"
   ]
  },
  {
   "cell_type": "code",
   "execution_count": 20,
   "metadata": {},
   "outputs": [
    {
     "data": {
      "image/png": "[encoded data removed]",
      "text/plain": [
       "<matplotlib.figure.Figure at 0x10c9c6650>"
      ]
     },
     "metadata": {},
     "output_type": "display_data"
    }
   ],
   "source": [
    "plt.plot(result['win_prob'], result['std'])\n",
    "plt.show()"
   ]
  },
  {
   "cell_type": "markdown",
   "metadata": {
    "collapsed": true
   },
   "source": [
    "we see that for bets where we have an edge and the win probability is low (thus resulting in a high payoff when we win),\n",
    "the associated volatility is then high and the expected return is high."
   ]
  },
  {
   "cell_type": "code",
   "execution_count": 21,
   "metadata": {},
   "outputs": [
    {
     "data": {
      "text/html": [
       "<div>\n",
       "<table border=\"1\" class=\"dataframe\">\n",
       "  <thead>\n",
       "    <tr style=\"text-align: right;\">\n",
       "      <th></th>\n",
       "      <th>mean</th>\n",
       "      <th>std</th>\n",
       "      <th>win_prob</th>\n",
       "      <th>sharpe_ratio</th>\n",
       "    </tr>\n",
       "  </thead>\n",
       "  <tbody>\n",
       "    <tr>\n",
       "      <th>0</th>\n",
       "      <td>0.046215</td>\n",
       "      <td>0.334187</td>\n",
       "      <td>0.05</td>\n",
       "      <td>0.138292</td>\n",
       "    </tr>\n",
       "    <tr>\n",
       "      <th>1</th>\n",
       "      <td>0.013971</td>\n",
       "      <td>0.138439</td>\n",
       "      <td>0.10</td>\n",
       "      <td>0.100921</td>\n",
       "    </tr>\n",
       "    <tr>\n",
       "      <th>2</th>\n",
       "      <td>0.008657</td>\n",
       "      <td>0.101569</td>\n",
       "      <td>0.15</td>\n",
       "      <td>0.085231</td>\n",
       "    </tr>\n",
       "    <tr>\n",
       "      <th>3</th>\n",
       "      <td>0.006458</td>\n",
       "      <td>0.085101</td>\n",
       "      <td>0.20</td>\n",
       "      <td>0.075886</td>\n",
       "    </tr>\n",
       "    <tr>\n",
       "      <th>4</th>\n",
       "      <td>0.005270</td>\n",
       "      <td>0.075711</td>\n",
       "      <td>0.25</td>\n",
       "      <td>0.069602</td>\n",
       "    </tr>\n",
       "    <tr>\n",
       "      <th>5</th>\n",
       "      <td>0.004559</td>\n",
       "      <td>0.069743</td>\n",
       "      <td>0.30</td>\n",
       "      <td>0.065363</td>\n",
       "    </tr>\n",
       "    <tr>\n",
       "      <th>6</th>\n",
       "      <td>0.004123</td>\n",
       "      <td>0.065752</td>\n",
       "      <td>0.35</td>\n",
       "      <td>0.062703</td>\n",
       "    </tr>\n",
       "    <tr>\n",
       "      <th>7</th>\n",
       "      <td>0.003934</td>\n",
       "      <td>0.063062</td>\n",
       "      <td>0.40</td>\n",
       "      <td>0.062385</td>\n",
       "    </tr>\n",
       "    <tr>\n",
       "      <th>8</th>\n",
       "      <td>0.003768</td>\n",
       "      <td>0.061272</td>\n",
       "      <td>0.45</td>\n",
       "      <td>0.061492</td>\n",
       "    </tr>\n",
       "    <tr>\n",
       "      <th>9</th>\n",
       "      <td>0.003653</td>\n",
       "      <td>0.060213</td>\n",
       "      <td>0.50</td>\n",
       "      <td>0.060663</td>\n",
       "    </tr>\n",
       "    <tr>\n",
       "      <th>10</th>\n",
       "      <td>0.003722</td>\n",
       "      <td>0.059780</td>\n",
       "      <td>0.55</td>\n",
       "      <td>0.062263</td>\n",
       "    </tr>\n",
       "    <tr>\n",
       "      <th>11</th>\n",
       "      <td>0.003760</td>\n",
       "      <td>0.059943</td>\n",
       "      <td>0.60</td>\n",
       "      <td>0.062720</td>\n",
       "    </tr>\n",
       "    <tr>\n",
       "      <th>12</th>\n",
       "      <td>0.003897</td>\n",
       "      <td>0.060707</td>\n",
       "      <td>0.65</td>\n",
       "      <td>0.064189</td>\n",
       "    </tr>\n",
       "    <tr>\n",
       "      <th>13</th>\n",
       "      <td>0.003723</td>\n",
       "      <td>0.062327</td>\n",
       "      <td>0.70</td>\n",
       "      <td>0.059737</td>\n",
       "    </tr>\n",
       "    <tr>\n",
       "      <th>14</th>\n",
       "      <td>0.004537</td>\n",
       "      <td>0.064391</td>\n",
       "      <td>0.75</td>\n",
       "      <td>0.070463</td>\n",
       "    </tr>\n",
       "    <tr>\n",
       "      <th>15</th>\n",
       "      <td>0.004980</td>\n",
       "      <td>0.067831</td>\n",
       "      <td>0.80</td>\n",
       "      <td>0.073417</td>\n",
       "    </tr>\n",
       "    <tr>\n",
       "      <th>16</th>\n",
       "      <td>0.006214</td>\n",
       "      <td>0.072458</td>\n",
       "      <td>0.85</td>\n",
       "      <td>0.085757</td>\n",
       "    </tr>\n",
       "    <tr>\n",
       "      <th>17</th>\n",
       "      <td>0.008074</td>\n",
       "      <td>0.079417</td>\n",
       "      <td>0.90</td>\n",
       "      <td>0.101663</td>\n",
       "    </tr>\n",
       "    <tr>\n",
       "      <th>18</th>\n",
       "      <td>0.012260</td>\n",
       "      <td>0.088765</td>\n",
       "      <td>0.95</td>\n",
       "      <td>0.138118</td>\n",
       "    </tr>\n",
       "  </tbody>\n",
       "</table>\n",
       "</div>"
      ],
      "text/plain": [
       "        mean       std  win_prob  sharpe_ratio\n",
       "0   0.046215  0.334187      0.05      0.138292\n",
       "1   0.013971  0.138439      0.10      0.100921\n",
       "2   0.008657  0.101569      0.15      0.085231\n",
       "3   0.006458  0.085101      0.20      0.075886\n",
       "4   0.005270  0.075711      0.25      0.069602\n",
       "5   0.004559  0.069743      0.30      0.065363\n",
       "6   0.004123  0.065752      0.35      0.062703\n",
       "7   0.003934  0.063062      0.40      0.062385\n",
       "8   0.003768  0.061272      0.45      0.061492\n",
       "9   0.003653  0.060213      0.50      0.060663\n",
       "10  0.003722  0.059780      0.55      0.062263\n",
       "11  0.003760  0.059943      0.60      0.062720\n",
       "12  0.003897  0.060707      0.65      0.064189\n",
       "13  0.003723  0.062327      0.70      0.059737\n",
       "14  0.004537  0.064391      0.75      0.070463\n",
       "15  0.004980  0.067831      0.80      0.073417\n",
       "16  0.006214  0.072458      0.85      0.085757\n",
       "17  0.008074  0.079417      0.90      0.101663\n",
       "18  0.012260  0.088765      0.95      0.138118"
      ]
     },
     "execution_count": 21,
     "metadata": {},
     "output_type": "execute_result"
    }
   ],
   "source": [
    "result"
   ]
  },
  {
   "cell_type": "code",
   "execution_count": 58,
   "metadata": {
    "collapsed": true
   },
   "outputs": [],
   "source": [
    "#sharpe ratios (assume rf = 0)\n",
    "result['sharpe_ratio'] = result['mean'] / result['std']"
   ]
  },
  {
   "cell_type": "code",
   "execution_count": 59,
   "metadata": {},
   "outputs": [
    {
     "data": {
      "image/png": "[encoded data removed]",
      "text/plain": [
       "<matplotlib.figure.Figure at 0x10d222e10>"
      ]
     },
     "metadata": {},
     "output_type": "display_data"
    }
   ],
   "source": [
    "plt.plot(result['win_prob'], result['sharpe_ratio'])\n",
    "plt.show()"
   ]
  },
  {
   "cell_type": "markdown",
   "metadata": {},
   "source": [
    "This suggests that the highest expected risk-adjusted returns are for very low and very high probability bets.\n",
    "this may be a bias in our edge. if we got to 100% return and 97% predicted and we were perfect, our bets go exponential"
   ]
  },
  {
   "cell_type": "markdown",
   "metadata": {
    "collapsed": true
   },
   "source": [
    "the sharpe ratio goes exponential at the left tail as our model assumption that we have a 3% edge (or any edge) on the price implies that as our predicted prob -> 0.03, prob implied by price -> 0, so price -> infinity, and we have infinite expected return as E[x] = price*trade_size if win else -1*trade_size, and for any finite trade size, E[x] -> infinity\n",
    "\n",
    "similarly, the sharpe ratio goes exponential at the right tail as again our model assumption that we have a 3% edge (or any edge) implies that as prob implied by price -> 0.97, our predicted prob -> 1. and so E[x] -> price * trade_size as prob(win) -> 1. kelly criterion bet size is to bet the whole bankroll (as return is certain), so there is 0 risk -> u/sigma -> infinity\n"
   ]
  },
  {
   "cell_type": "code",
   "execution_count": 12,
   "metadata": {
    "collapsed": true
   },
   "outputs": [],
   "source": [
    "# sortino ratio (downside vol only - as upside vol is desirable - Sharpe punishes upside vol)"
   ]
  },
  {
   "cell_type": "code",
   "execution_count": 61,
   "metadata": {},
   "outputs": [
    {
     "data": {
      "image/png": "[encoded data removed]",
      "text/plain": [
       "<matplotlib.figure.Figure at 0x10d316e90>"
      ]
     },
     "metadata": {},
     "output_type": "display_data"
    }
   ],
   "source": [
    "result['sortino_ratio'] = result['mean'] / result['down_std']\n",
    "plt.plot(result['win_prob'], result['sharpe_ratio'])\n",
    "plt.show()"
   ]
  }
 ],
 "metadata": {
  "kernelspec": {
   "display_name": "Python 2",
   "language": "python",
   "name": "python2"
  },
  "language_info": {
   "codemirror_mode": {
    "name": "ipython",
    "version": 2
   },
   "file_extension": ".py",
   "mimetype": "text/x-python",
   "name": "python",
   "nbconvert_exporter": "python",
   "pygments_lexer": "ipython2",
   "version": "2.7.13"
  }
 },
 "nbformat": 4,
 "nbformat_minor": 2
}
