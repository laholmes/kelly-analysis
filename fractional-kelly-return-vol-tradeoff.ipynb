{
 "cells": [
  {
   "cell_type": "markdown",
   "metadata": {},
   "source": [
    "# Kelly criterion return-vol tradeoff\n",
    "examining the tradeoff between returns and volatility when using the Kelly criterion to size bets"
   ]
  },
  {
   "cell_type": "markdown",
   "metadata": {},
   "source": [
    "The Kelly criterion optimizes the log growth rate. The Taylor expansion for log gives us:"
   ]
  },
  {
   "cell_type": "code",
   "execution_count": 67,
   "metadata": {},
   "outputs": [
    {
     "data": {
      "text/latex": [
       "$$log(1+x) = \\sum_{n=1}^{\\infty} (-1)^{n+1} \\dfrac{x^n}n, \\left|x\\right|  \\leqslant 1, x \\neq -1$$"
      ],
      "text/plain": [
       "<IPython.core.display.Math object>"
      ]
     },
     "metadata": {},
     "output_type": "display_data"
    }
   ],
   "source": [
    "from IPython.display import display, Math, Latex\n",
    "display(Math(r'log(1+x) = \\sum_{n=1}^{\\infty} (-1)^{n+1} \\dfrac{x^n}n, \\left|x\\right|  \\leqslant 1, x \\neq -1'))"
   ]
  },
  {
   "cell_type": "markdown",
   "metadata": {},
   "source": [
    "This is our objective function to maximise. We can approximate by taking the first two terms"
   ]
  },
  {
   "cell_type": "code",
   "execution_count": null,
   "metadata": {
    "collapsed": true
   },
   "outputs": [],
   "source": [
    "if strategy has high alpha and is positively skewed, then throwing away terms is bad. markowitz doesnt have the same sensitivity"
   ]
  },
  {
   "cell_type": "markdown",
   "metadata": {},
   "source": [
    "heuristic proof here https://en.wikipedia.org/wiki/Kelly_criterion#Proof (calculate amount won with optimal size and introdue a delta to size, differentiate w.r.t. delta and show delta = 0 at the max)"
   ]
  },
  {
   "cell_type": "code",
   "execution_count": null,
   "metadata": {
    "collapsed": true
   },
   "outputs": [],
   "source": []
  },
  {
   "cell_type": "code",
   "execution_count": null,
   "metadata": {
    "collapsed": true
   },
   "outputs": [],
   "source": []
  },
  {
   "cell_type": "code",
   "execution_count": 6,
   "metadata": {
    "collapsed": true
   },
   "outputs": [],
   "source": [
    "import numpy as np\n",
    "import pandas as pd\n",
    "import matplotlib.pyplot as plt"
   ]
  },
  {
   "cell_type": "code",
   "execution_count": 70,
   "metadata": {
    "collapsed": true
   },
   "outputs": [],
   "source": [
    "# parameterisation\n",
    "start_bankroll = 10000\n",
    "trade_count = 10000\n",
    "# for our purposes, our model is perfect\n",
    "win_prob = 0.53 \n",
    "# assume 5% edge\n",
    "price = 0.50\n",
    "dec_price = 1/price - 1"
   ]
  },
  {
   "cell_type": "code",
   "execution_count": 8,
   "metadata": {
    "collapsed": true
   },
   "outputs": [],
   "source": [
    "def run_trials(win_prob, bankroll, trade_count, dec_price):\n",
    "    std = []\n",
    "    mean = []\n",
    "    for y in range(0,50):\n",
    "        bankroll = []\n",
    "        returns = []\n",
    "        df = pd.DataFrame()\n",
    "        for i in range(0, trade_count):\n",
    "            if i == 0:\n",
    "                step_bankroll = start_bankroll\n",
    "            else:\n",
    "                step_bankroll = bankroll[i-1]\n",
    "            kelly_prop = (win_prob * (dec_price+1) - 1) / dec_price\n",
    "            win = np.random.rand() <= win_prob\n",
    "            trade_size = kelly_prop*step_bankroll\n",
    "            profit = dec_price*trade_size if win else -1*trade_size\n",
    "            returns.append(profit/step_bankroll)\n",
    "            step_bankroll += profit\n",
    "            bankroll.append(step_bankroll)\n",
    "\n",
    "        df['bankroll'] = bankroll\n",
    "        df['return'] = returns\n",
    "        std.append(np.std(df['return']))\n",
    "        mean.append(np.mean(df['return']))\n",
    "        plt.plot(df['bankroll'][0:1000])    \n",
    "\n",
    "    var = [i**2 for i in std]\n",
    "    av_var = sum(var) / len(var)\n",
    "    av_std = av_var**0.5\n",
    "    av_mean = np.mean(mean)\n",
    "#     plt.show()\n",
    "    return {'win_prob': win_prob,'std': av_std, 'mean': av_mean}"
   ]
  },
  {
   "cell_type": "code",
   "execution_count": 11,
   "metadata": {},
   "outputs": [],
   "source": [
    "result = pd.DataFrame()\n",
    "for x in np.arange(0.05, 1, 0.05):\n",
    "    start_bankroll = 10000\n",
    "    trade_count = 10000\n",
    "    win_prob = x\n",
    "    # assume 3% edge\n",
    "    price = x - 0.03\n",
    "    dec_price = 1/price - 1\n",
    "    result = result.append(run_trials(win_prob, start_bankroll, trade_count, dec_price), ignore_index=True)"
   ]
  },
  {
   "cell_type": "code",
   "execution_count": 68,
   "metadata": {},
   "outputs": [
    {
     "data": {
      "image/png": "[encoded data removed]",
      "text/plain": [
       "<matplotlib.figure.Figure at 0x1130689e8>"
      ]
     },
     "metadata": {},
     "output_type": "display_data"
    }
   ],
   "source": [
    "plt.plot(result['win_prob'], result['mean'])\n",
    "plt.show()"
   ]
  },
  {
   "cell_type": "code",
   "execution_count": 69,
   "metadata": {},
   "outputs": [
    {
     "data": {
      "image/png": "[encoded data removed]",
      "text/plain": [
       "<matplotlib.figure.Figure at 0x113022668>"
      ]
     },
     "metadata": {},
     "output_type": "display_data"
    }
   ],
   "source": [
    "plt.plot(result['win_prob'], result['std'])\n",
    "plt.show()"
   ]
  },
  {
   "cell_type": "markdown",
   "metadata": {
    "collapsed": true
   },
   "source": [
    "we see that for bets where we have an edge and the win probability is low (thus resulting in a high payoff when we win),\n",
    "the associated volatility is then high and the expected return is high."
   ]
  },
  {
   "cell_type": "code",
   "execution_count": null,
   "metadata": {
    "collapsed": true
   },
   "outputs": [],
   "source": []
  },
  {
   "cell_type": "code",
   "execution_count": 72,
   "metadata": {},
   "outputs": [],
   "source": [
    "#sharpe ratios (assume rf = 0)\n",
    "result['sharpe_ratio'] = result['mean'] / result['std']"
   ]
  },
  {
   "cell_type": "code",
   "execution_count": 73,
   "metadata": {},
   "outputs": [
    {
     "data": {
      "image/png": "[encoded data removed]",
      "text/plain": [
       "<matplotlib.figure.Figure at 0x112ecc748>"
      ]
     },
     "metadata": {},
     "output_type": "display_data"
    }
   ],
   "source": [
    "plt.plot(result['win_prob'], result['sharpe_ratio'])\n",
    "plt.show()"
   ]
  },
  {
   "cell_type": "markdown",
   "metadata": {},
   "source": [
    "This suggests that the highest expected risk-adjusted returns are for very low and very high probability bets.\n",
    "this may be a bias in our edge. if we got to 100% return and 97% predicted and we were perfect, our bets go exponential"
   ]
  },
  {
   "cell_type": "code",
   "execution_count": null,
   "metadata": {
    "collapsed": true
   },
   "outputs": [],
   "source": []
  },
  {
   "cell_type": "code",
   "execution_count": null,
   "metadata": {},
   "outputs": [],
   "source": [
    "# sortino ratio"
   ]
  }
 ],
 "metadata": {
  "kernelspec": {
   "display_name": "Python 3",
   "language": "python",
   "name": "python3"
  },
  "language_info": {
   "codemirror_mode": {
    "name": "ipython",
    "version": 3
   },
   "file_extension": ".py",
   "mimetype": "text/x-python",
   "name": "python",
   "nbconvert_exporter": "python",
   "pygments_lexer": "ipython3",
   "version": "3.6.1"
  }
 },
 "nbformat": 4,
 "nbformat_minor": 2
}
