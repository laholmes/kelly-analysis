{
 "cells": [
  {
   "cell_type": "markdown",
   "metadata": {},
   "source": [
    "# Kelly criterion return-vol tradeoff\n",
    "Examining the tradeoff between returns and volatility when using the Kelly criterion to size bets.\n",
    "\n",
    "The Kelly criterion defines an optimal betsize - one that maximises the log growth rate across a series of bets. \n",
    "\n",
    "In the simple case, we consider a fixed probability of winning and a fixed price (thus assuming some fixed price)."
   ]
  },
  {
   "cell_type": "code",
   "execution_count": 2,
   "metadata": {
    "collapsed": true
   },
   "outputs": [],
   "source": [
    "from IPython.display import display, Math, Latex"
   ]
  },
  {
   "cell_type": "markdown",
   "metadata": {},
   "source": [
    "Kelly maximises the log growth rate as the returns for a series of sequential bets are multiplicative. \n",
    "So we can take the exponential of the log returns.\n",
    "\n",
    "For p = prob of win, b = price, the expected log return is"
   ]
  },
  {
   "cell_type": "code",
   "execution_count": 3,
   "metadata": {},
   "outputs": [
    {
     "data": {
      "text/latex": [
       "$$E(log(X))=plog(1+bx)+(1−p)log(1−x)$$"
      ],
      "text/plain": [
       "<IPython.core.display.Math object>"
      ]
     },
     "metadata": {},
     "output_type": "display_data"
    }
   ],
   "source": [
    "display(Math(r'E(log(X))=plog(1+bx)+(1−p)log(1−x)'))"
   ]
  },
  {
   "cell_type": "markdown",
   "metadata": {},
   "source": [
    "Maximising gives us a Kelly bet size of:"
   ]
  },
  {
   "cell_type": "code",
   "execution_count": 4,
   "metadata": {},
   "outputs": [
    {
     "data": {
      "text/latex": [
       "$$(pb - (1-p)) / b$$"
      ],
      "text/plain": [
       "<IPython.core.display.Math object>"
      ]
     },
     "metadata": {},
     "output_type": "display_data"
    }
   ],
   "source": [
    "display(Math(r'(pb - (1-p)) / b'))"
   ]
  },
  {
   "cell_type": "markdown",
   "metadata": {},
   "source": [
    "There's a nice heuristic derivation that I always liked, here https://en.wikipedia.org/wiki/Kelly_criterion#Proof (calculate amount won with optimal size and introdue a delta to size, differentiate w.r.t. delta and show delta = 0 at the max).\n",
    "\n",
    "You could also approximate by taking the first two terms of the Taylor expansion of log(1+x), and maximising. This may or may not be a valid approximation, depending on the distribution of returns, e.g. it would be inaccurate if the returns are positively skewed."
   ]
  },
  {
   "cell_type": "code",
   "execution_count": 5,
   "metadata": {},
   "outputs": [
    {
     "data": {
      "text/latex": [
       "$$log(1+x) = \\sum_{n=1}^{\\infty} (-1)^{n+1} \\dfrac{x^n}n, \\left|x\\right|  \\leqslant 1, x \\neq -1$$"
      ],
      "text/plain": [
       "<IPython.core.display.Math object>"
      ]
     },
     "metadata": {},
     "output_type": "display_data"
    }
   ],
   "source": [
    "display(Math(r'log(1+x) = \\sum_{n=1}^{\\infty} (-1)^{n+1} \\dfrac{x^n}n, \\left|x\\right|  \\leqslant 1, x \\neq -1'))"
   ]
  },
  {
   "cell_type": "markdown",
   "metadata": {},
   "source": [
    "## Simulation\n",
    "For our simulation, we select a fixed predicted %, assume a fixed 3% edge on the market and simulate multiple Kelly bets. We then select another fixed predicted %, and re-run the simulation.\n",
    "\n",
    "We calculate mean and std of returns, though we could find the expected rate of return by using the exponential\n",
    "of the expected log return (as described here http://www.elem.com/~btilly/kelly-criterion/)\n",
    "\n",
    "Measuring the variance of returns is important as appetite for vol varies (thus it may make sense to bet less than the theoretical optimal amount), though we can't ever go broke (assuming we have a positive edge on the market), as The Kelly Criterion prescribes a bet of a proportion of the bankroll.\n",
    "\n",
    "The log of returns over a large sample is normally distributed, by the Central Limit Theorem."
   ]
  },
  {
   "cell_type": "code",
   "execution_count": 6,
   "metadata": {
    "collapsed": true
   },
   "outputs": [],
   "source": [
    "import numpy as np\n",
    "import pandas as pd\n",
    "import matplotlib.pyplot as plt"
   ]
  },
  {
   "cell_type": "code",
   "execution_count": 7,
   "metadata": {
    "collapsed": true
   },
   "outputs": [],
   "source": [
    "# parameterisation\n",
    "start_bankroll = 10000\n",
    "trade_count = 10000\n",
    "# we assume our prediction is perfect\n",
    "win_prob = 0.53 \n",
    "# assume 3% edge\n",
    "price = 0.50\n",
    "dec_price = 1/price - 1"
   ]
  },
  {
   "cell_type": "code",
   "execution_count": 8,
   "metadata": {
    "collapsed": true
   },
   "outputs": [],
   "source": [
    "def run_trials(win_prob, bankroll, trade_count, dec_price):\n",
    "    std = []\n",
    "    mean = []\n",
    "    for y in range(0,50):\n",
    "        bankroll = []\n",
    "        returns = []\n",
    "        df = pd.DataFrame()\n",
    "        for i in range(0, trade_count):\n",
    "            if i == 0:\n",
    "                step_bankroll = start_bankroll\n",
    "            else:\n",
    "                step_bankroll = bankroll[i-1]\n",
    "            kelly_prop = (win_prob * (dec_price+1) - 1) / dec_price\n",
    "            win = np.random.rand() <= win_prob\n",
    "            trade_size = kelly_prop*step_bankroll\n",
    "            profit = dec_price*trade_size if win else -1*trade_size\n",
    "            returns.append(profit/step_bankroll)\n",
    "            step_bankroll += profit\n",
    "            bankroll.append(step_bankroll)\n",
    "\n",
    "        df['bankroll'] = bankroll\n",
    "        df['return'] = returns\n",
    "        std.append(np.std(df['return']))\n",
    "        mean.append(np.mean(df['return']))\n",
    "        plt.plot(df['bankroll'][0:1000])    \n",
    "\n",
    "    var = [i**2 for i in std]\n",
    "    av_var = sum(var) / len(var)\n",
    "    av_down_var =  var[var < 0].sum() / len(var)\n",
    "    av_down_std = av_down_var ** 0.5\n",
    "    av_std = av_var**0.5\n",
    "    av_mean = np.mean(mean)\n",
    "# turn on plot to view individual trial results, can also plot std for each trial - and see that Kelly results in\n",
    "# a highly volatile return. this can be temped (at a cost in terms of expected return) by using fractional Kelly\n",
    "# i.e. applying a fixed fractional multiplier to the Kelly-prescribed bet amount. 1/2 is a commonly used multiplier.\n",
    "#     plt.show()\n",
    "    return {'win_prob': win_prob,'std': av_std, 'down_std': av_down_std, 'mean': av_mean}"
   ]
  },
  {
   "cell_type": "code",
   "execution_count": 9,
   "metadata": {
    "collapsed": true
   },
   "outputs": [],
   "source": [
    "result = pd.DataFrame()\n",
    "for x in np.arange(0.05, 1, 0.05):\n",
    "    start_bankroll = 10000\n",
    "    trade_count = 10000\n",
    "    win_prob = x\n",
    "    # assume 3% edge\n",
    "    price = x - 0.03\n",
    "    dec_price = 1/price - 1\n",
    "    result = result.append(run_trials(win_prob, start_bankroll, trade_count, dec_price), ignore_index=True)"
   ]
  },
  {
   "cell_type": "code",
   "execution_count": 23,
   "metadata": {},
   "outputs": [
    {
     "data": {
      "image/png": "[encoded data removed]",
      "text/plain": [
       "<matplotlib.figure.Figure at 0x10b16d890>"
      ]
     },
     "metadata": {},
     "output_type": "display_data"
    }
   ],
   "source": [
    "plt.plot(result['win_prob'], result['mean'])\n",
    "plt.show()"
   ]
  },
  {
   "cell_type": "code",
   "execution_count": 24,
   "metadata": {},
   "outputs": [
    {
     "data": {
      "image/png": "[encoded data removed]",
      "text/plain": [
       "<matplotlib.figure.Figure at 0x10b1302d0>"
      ]
     },
     "metadata": {},
     "output_type": "display_data"
    }
   ],
   "source": [
    "plt.plot(result['win_prob'], result['std'])\n",
    "plt.show()"
   ]
  },
  {
   "cell_type": "code",
   "execution_count": 25,
   "metadata": {},
   "outputs": [
    {
     "data": {
      "text/html": [
       "<div>\n",
       "<table border=\"1\" class=\"dataframe\">\n",
       "  <thead>\n",
       "    <tr style=\"text-align: right;\">\n",
       "      <th></th>\n",
       "      <th>down_std</th>\n",
       "      <th>mean</th>\n",
       "      <th>std</th>\n",
       "      <th>win_prob</th>\n",
       "      <th>sharpe_ratio</th>\n",
       "      <th>sortino_ratio</th>\n",
       "    </tr>\n",
       "  </thead>\n",
       "  <tbody>\n",
       "    <tr>\n",
       "      <th>0</th>\n",
       "      <td>0.048104</td>\n",
       "      <td>0.045768</td>\n",
       "      <td>0.333266</td>\n",
       "      <td>0.05</td>\n",
       "      <td>0.137333</td>\n",
       "      <td>0.951448</td>\n",
       "    </tr>\n",
       "    <tr>\n",
       "      <th>1</th>\n",
       "      <td>0.018973</td>\n",
       "      <td>0.013506</td>\n",
       "      <td>0.137815</td>\n",
       "      <td>0.10</td>\n",
       "      <td>0.098001</td>\n",
       "      <td>0.711839</td>\n",
       "    </tr>\n",
       "    <tr>\n",
       "      <th>2</th>\n",
       "      <td>0.014436</td>\n",
       "      <td>0.008437</td>\n",
       "      <td>0.101354</td>\n",
       "      <td>0.15</td>\n",
       "      <td>0.083248</td>\n",
       "      <td>0.584481</td>\n",
       "    </tr>\n",
       "    <tr>\n",
       "      <th>3</th>\n",
       "      <td>0.011845</td>\n",
       "      <td>0.006268</td>\n",
       "      <td>0.084960</td>\n",
       "      <td>0.20</td>\n",
       "      <td>0.073780</td>\n",
       "      <td>0.529175</td>\n",
       "    </tr>\n",
       "    <tr>\n",
       "      <th>4</th>\n",
       "      <td>0.010737</td>\n",
       "      <td>0.004955</td>\n",
       "      <td>0.075530</td>\n",
       "      <td>0.25</td>\n",
       "      <td>0.065597</td>\n",
       "      <td>0.461445</td>\n",
       "    </tr>\n",
       "    <tr>\n",
       "      <th>5</th>\n",
       "      <td>0.009908</td>\n",
       "      <td>0.004841</td>\n",
       "      <td>0.069866</td>\n",
       "      <td>0.30</td>\n",
       "      <td>0.069287</td>\n",
       "      <td>0.488590</td>\n",
       "    </tr>\n",
       "    <tr>\n",
       "      <th>6</th>\n",
       "      <td>0.009328</td>\n",
       "      <td>0.004248</td>\n",
       "      <td>0.065791</td>\n",
       "      <td>0.35</td>\n",
       "      <td>0.064572</td>\n",
       "      <td>0.455430</td>\n",
       "    </tr>\n",
       "    <tr>\n",
       "      <th>7</th>\n",
       "      <td>0.008946</td>\n",
       "      <td>0.003770</td>\n",
       "      <td>0.063029</td>\n",
       "      <td>0.40</td>\n",
       "      <td>0.059820</td>\n",
       "      <td>0.421473</td>\n",
       "    </tr>\n",
       "    <tr>\n",
       "      <th>8</th>\n",
       "      <td>0.008663</td>\n",
       "      <td>0.003685</td>\n",
       "      <td>0.061265</td>\n",
       "      <td>0.45</td>\n",
       "      <td>0.060156</td>\n",
       "      <td>0.425428</td>\n",
       "    </tr>\n",
       "    <tr>\n",
       "      <th>9</th>\n",
       "      <td>0.008516</td>\n",
       "      <td>0.003731</td>\n",
       "      <td>0.060214</td>\n",
       "      <td>0.50</td>\n",
       "      <td>0.061959</td>\n",
       "      <td>0.438095</td>\n",
       "    </tr>\n",
       "    <tr>\n",
       "      <th>10</th>\n",
       "      <td>0.008474</td>\n",
       "      <td>0.003734</td>\n",
       "      <td>0.059779</td>\n",
       "      <td>0.55</td>\n",
       "      <td>0.062466</td>\n",
       "      <td>0.440642</td>\n",
       "    </tr>\n",
       "    <tr>\n",
       "      <th>11</th>\n",
       "      <td>0.008494</td>\n",
       "      <td>0.003650</td>\n",
       "      <td>0.059965</td>\n",
       "      <td>0.60</td>\n",
       "      <td>0.060864</td>\n",
       "      <td>0.429667</td>\n",
       "    </tr>\n",
       "    <tr>\n",
       "      <th>12</th>\n",
       "      <td>0.008569</td>\n",
       "      <td>0.003992</td>\n",
       "      <td>0.060678</td>\n",
       "      <td>0.65</td>\n",
       "      <td>0.065793</td>\n",
       "      <td>0.465913</td>\n",
       "    </tr>\n",
       "    <tr>\n",
       "      <th>13</th>\n",
       "      <td>0.008818</td>\n",
       "      <td>0.004101</td>\n",
       "      <td>0.062163</td>\n",
       "      <td>0.70</td>\n",
       "      <td>0.065971</td>\n",
       "      <td>0.465050</td>\n",
       "    </tr>\n",
       "    <tr>\n",
       "      <th>14</th>\n",
       "      <td>0.009139</td>\n",
       "      <td>0.004468</td>\n",
       "      <td>0.064432</td>\n",
       "      <td>0.75</td>\n",
       "      <td>0.069338</td>\n",
       "      <td>0.488832</td>\n",
       "    </tr>\n",
       "    <tr>\n",
       "      <th>15</th>\n",
       "      <td>0.009600</td>\n",
       "      <td>0.005003</td>\n",
       "      <td>0.067814</td>\n",
       "      <td>0.80</td>\n",
       "      <td>0.073769</td>\n",
       "      <td>0.521082</td>\n",
       "    </tr>\n",
       "    <tr>\n",
       "      <th>16</th>\n",
       "      <td>0.010095</td>\n",
       "      <td>0.006078</td>\n",
       "      <td>0.072592</td>\n",
       "      <td>0.85</td>\n",
       "      <td>0.083723</td>\n",
       "      <td>0.602063</td>\n",
       "    </tr>\n",
       "    <tr>\n",
       "      <th>17</th>\n",
       "      <td>0.010989</td>\n",
       "      <td>0.008142</td>\n",
       "      <td>0.079325</td>\n",
       "      <td>0.90</td>\n",
       "      <td>0.102637</td>\n",
       "      <td>0.740904</td>\n",
       "    </tr>\n",
       "    <tr>\n",
       "      <th>18</th>\n",
       "      <td>0.012960</td>\n",
       "      <td>0.012425</td>\n",
       "      <td>0.088425</td>\n",
       "      <td>0.95</td>\n",
       "      <td>0.140512</td>\n",
       "      <td>0.958682</td>\n",
       "    </tr>\n",
       "  </tbody>\n",
       "</table>\n",
       "</div>"
      ],
      "text/plain": [
       "    down_std      mean       std  win_prob  sharpe_ratio  sortino_ratio\n",
       "0   0.048104  0.045768  0.333266      0.05      0.137333       0.951448\n",
       "1   0.018973  0.013506  0.137815      0.10      0.098001       0.711839\n",
       "2   0.014436  0.008437  0.101354      0.15      0.083248       0.584481\n",
       "3   0.011845  0.006268  0.084960      0.20      0.073780       0.529175\n",
       "4   0.010737  0.004955  0.075530      0.25      0.065597       0.461445\n",
       "5   0.009908  0.004841  0.069866      0.30      0.069287       0.488590\n",
       "6   0.009328  0.004248  0.065791      0.35      0.064572       0.455430\n",
       "7   0.008946  0.003770  0.063029      0.40      0.059820       0.421473\n",
       "8   0.008663  0.003685  0.061265      0.45      0.060156       0.425428\n",
       "9   0.008516  0.003731  0.060214      0.50      0.061959       0.438095\n",
       "10  0.008474  0.003734  0.059779      0.55      0.062466       0.440642\n",
       "11  0.008494  0.003650  0.059965      0.60      0.060864       0.429667\n",
       "12  0.008569  0.003992  0.060678      0.65      0.065793       0.465913\n",
       "13  0.008818  0.004101  0.062163      0.70      0.065971       0.465050\n",
       "14  0.009139  0.004468  0.064432      0.75      0.069338       0.488832\n",
       "15  0.009600  0.005003  0.067814      0.80      0.073769       0.521082\n",
       "16  0.010095  0.006078  0.072592      0.85      0.083723       0.602063\n",
       "17  0.010989  0.008142  0.079325      0.90      0.102637       0.740904\n",
       "18  0.012960  0.012425  0.088425      0.95      0.140512       0.958682"
      ]
     },
     "execution_count": 25,
     "metadata": {},
     "output_type": "execute_result"
    }
   ],
   "source": [
    "result\n",
    "# we have a fairly large sample, and if we calculate e^E(log(x)) using our parameter values as described above,\n",
    "# we see mean return is close to the expected return (at p=0.83, e^E(log(x)) = 0.00345, at p=0.53, e^E(log(x)) = 0.00190)"
   ]
  },
  {
   "cell_type": "code",
   "execution_count": 26,
   "metadata": {
    "collapsed": true
   },
   "outputs": [],
   "source": [
    "#sharpe ratios (assume rf = 0)\n",
    "result['sharpe_ratio'] = result['mean'] / result['std']"
   ]
  },
  {
   "cell_type": "code",
   "execution_count": 27,
   "metadata": {},
   "outputs": [
    {
     "data": {
      "image/png": "[encoded data removed]",
      "text/plain": [
       "<matplotlib.figure.Figure at 0x10a144e50>"
      ]
     },
     "metadata": {},
     "output_type": "display_data"
    }
   ],
   "source": [
    "plt.plot(result['win_prob'], result['sharpe_ratio'])\n",
    "plt.show()"
   ]
  },
  {
   "cell_type": "markdown",
   "metadata": {
    "collapsed": true
   },
   "source": [
    "This makes sense as our returns go exponential at both tails:\n",
    "\n",
    "The sharpe ratio goes exponential at the left tail as our model assumption that we have a 3% edge (or any edge) on the price implies that as our predicted prob -> 0.03, prob implied by price -> 0, so price -> infinity, and we have infinite expected return as E[x] = price*trade_size if win else -1*trade_size, and for any finite trade size, E[x] -> infinity.\n",
    "\n",
    "Similarly, the sharpe ratio goes exponential at the right tail as again our model assumption that we have a 3% edge (or any edge) implies that as prob implied by price -> 0.97, our predicted prob -> 1. and so E[x] -> price * trade_size as prob(win) -> 1. kelly criterion bet size is to bet the whole bankroll (as return is certain), and as result is certain, std = 0 (no risk - o -> u/sigma -> infinity\n",
    "\n",
    "To increase our expected return, we must move away from bets around the 50% prediction, and in return our vol also increases. We'll look at the sortino ratio to discover the shape of this vol - upside vol is positive. here downside vol has the same behaviour as overall vol\n"
   ]
  },
  {
   "cell_type": "code",
   "execution_count": 28,
   "metadata": {
    "collapsed": true
   },
   "outputs": [],
   "source": [
    "# sortino ratio (downside vol only - as upside vol is desirable - Sharpe punishes upside vol)"
   ]
  },
  {
   "cell_type": "code",
   "execution_count": 29,
   "metadata": {},
   "outputs": [
    {
     "data": {
      "image/png": "[encoded data removed]",
      "text/plain": [
       "<matplotlib.figure.Figure at 0x10b003d10>"
      ]
     },
     "metadata": {},
     "output_type": "display_data"
    }
   ],
   "source": [
    "result['sortino_ratio'] = result['mean'] / result['down_std']\n",
    "plt.plot(result['win_prob'], result['sortino_ratio'])\n",
    "plt.show()"
   ]
  },
  {
   "cell_type": "code",
   "execution_count": 30,
   "metadata": {},
   "outputs": [
    {
     "data": {
      "text/html": [
       "<div>\n",
       "<table border=\"1\" class=\"dataframe\">\n",
       "  <thead>\n",
       "    <tr style=\"text-align: right;\">\n",
       "      <th></th>\n",
       "      <th>down_std</th>\n",
       "      <th>mean</th>\n",
       "      <th>std</th>\n",
       "      <th>win_prob</th>\n",
       "      <th>sharpe_ratio</th>\n",
       "      <th>sortino_ratio</th>\n",
       "    </tr>\n",
       "  </thead>\n",
       "  <tbody>\n",
       "    <tr>\n",
       "      <th>0</th>\n",
       "      <td>0.048104</td>\n",
       "      <td>0.045768</td>\n",
       "      <td>0.333266</td>\n",
       "      <td>0.05</td>\n",
       "      <td>0.137333</td>\n",
       "      <td>0.951448</td>\n",
       "    </tr>\n",
       "    <tr>\n",
       "      <th>1</th>\n",
       "      <td>0.018973</td>\n",
       "      <td>0.013506</td>\n",
       "      <td>0.137815</td>\n",
       "      <td>0.10</td>\n",
       "      <td>0.098001</td>\n",
       "      <td>0.711839</td>\n",
       "    </tr>\n",
       "    <tr>\n",
       "      <th>2</th>\n",
       "      <td>0.014436</td>\n",
       "      <td>0.008437</td>\n",
       "      <td>0.101354</td>\n",
       "      <td>0.15</td>\n",
       "      <td>0.083248</td>\n",
       "      <td>0.584481</td>\n",
       "    </tr>\n",
       "    <tr>\n",
       "      <th>3</th>\n",
       "      <td>0.011845</td>\n",
       "      <td>0.006268</td>\n",
       "      <td>0.084960</td>\n",
       "      <td>0.20</td>\n",
       "      <td>0.073780</td>\n",
       "      <td>0.529175</td>\n",
       "    </tr>\n",
       "    <tr>\n",
       "      <th>4</th>\n",
       "      <td>0.010737</td>\n",
       "      <td>0.004955</td>\n",
       "      <td>0.075530</td>\n",
       "      <td>0.25</td>\n",
       "      <td>0.065597</td>\n",
       "      <td>0.461445</td>\n",
       "    </tr>\n",
       "    <tr>\n",
       "      <th>5</th>\n",
       "      <td>0.009908</td>\n",
       "      <td>0.004841</td>\n",
       "      <td>0.069866</td>\n",
       "      <td>0.30</td>\n",
       "      <td>0.069287</td>\n",
       "      <td>0.488590</td>\n",
       "    </tr>\n",
       "    <tr>\n",
       "      <th>6</th>\n",
       "      <td>0.009328</td>\n",
       "      <td>0.004248</td>\n",
       "      <td>0.065791</td>\n",
       "      <td>0.35</td>\n",
       "      <td>0.064572</td>\n",
       "      <td>0.455430</td>\n",
       "    </tr>\n",
       "    <tr>\n",
       "      <th>7</th>\n",
       "      <td>0.008946</td>\n",
       "      <td>0.003770</td>\n",
       "      <td>0.063029</td>\n",
       "      <td>0.40</td>\n",
       "      <td>0.059820</td>\n",
       "      <td>0.421473</td>\n",
       "    </tr>\n",
       "    <tr>\n",
       "      <th>8</th>\n",
       "      <td>0.008663</td>\n",
       "      <td>0.003685</td>\n",
       "      <td>0.061265</td>\n",
       "      <td>0.45</td>\n",
       "      <td>0.060156</td>\n",
       "      <td>0.425428</td>\n",
       "    </tr>\n",
       "    <tr>\n",
       "      <th>9</th>\n",
       "      <td>0.008516</td>\n",
       "      <td>0.003731</td>\n",
       "      <td>0.060214</td>\n",
       "      <td>0.50</td>\n",
       "      <td>0.061959</td>\n",
       "      <td>0.438095</td>\n",
       "    </tr>\n",
       "    <tr>\n",
       "      <th>10</th>\n",
       "      <td>0.008474</td>\n",
       "      <td>0.003734</td>\n",
       "      <td>0.059779</td>\n",
       "      <td>0.55</td>\n",
       "      <td>0.062466</td>\n",
       "      <td>0.440642</td>\n",
       "    </tr>\n",
       "    <tr>\n",
       "      <th>11</th>\n",
       "      <td>0.008494</td>\n",
       "      <td>0.003650</td>\n",
       "      <td>0.059965</td>\n",
       "      <td>0.60</td>\n",
       "      <td>0.060864</td>\n",
       "      <td>0.429667</td>\n",
       "    </tr>\n",
       "    <tr>\n",
       "      <th>12</th>\n",
       "      <td>0.008569</td>\n",
       "      <td>0.003992</td>\n",
       "      <td>0.060678</td>\n",
       "      <td>0.65</td>\n",
       "      <td>0.065793</td>\n",
       "      <td>0.465913</td>\n",
       "    </tr>\n",
       "    <tr>\n",
       "      <th>13</th>\n",
       "      <td>0.008818</td>\n",
       "      <td>0.004101</td>\n",
       "      <td>0.062163</td>\n",
       "      <td>0.70</td>\n",
       "      <td>0.065971</td>\n",
       "      <td>0.465050</td>\n",
       "    </tr>\n",
       "    <tr>\n",
       "      <th>14</th>\n",
       "      <td>0.009139</td>\n",
       "      <td>0.004468</td>\n",
       "      <td>0.064432</td>\n",
       "      <td>0.75</td>\n",
       "      <td>0.069338</td>\n",
       "      <td>0.488832</td>\n",
       "    </tr>\n",
       "    <tr>\n",
       "      <th>15</th>\n",
       "      <td>0.009600</td>\n",
       "      <td>0.005003</td>\n",
       "      <td>0.067814</td>\n",
       "      <td>0.80</td>\n",
       "      <td>0.073769</td>\n",
       "      <td>0.521082</td>\n",
       "    </tr>\n",
       "    <tr>\n",
       "      <th>16</th>\n",
       "      <td>0.010095</td>\n",
       "      <td>0.006078</td>\n",
       "      <td>0.072592</td>\n",
       "      <td>0.85</td>\n",
       "      <td>0.083723</td>\n",
       "      <td>0.602063</td>\n",
       "    </tr>\n",
       "    <tr>\n",
       "      <th>17</th>\n",
       "      <td>0.010989</td>\n",
       "      <td>0.008142</td>\n",
       "      <td>0.079325</td>\n",
       "      <td>0.90</td>\n",
       "      <td>0.102637</td>\n",
       "      <td>0.740904</td>\n",
       "    </tr>\n",
       "    <tr>\n",
       "      <th>18</th>\n",
       "      <td>0.012960</td>\n",
       "      <td>0.012425</td>\n",
       "      <td>0.088425</td>\n",
       "      <td>0.95</td>\n",
       "      <td>0.140512</td>\n",
       "      <td>0.958682</td>\n",
       "    </tr>\n",
       "  </tbody>\n",
       "</table>\n",
       "</div>"
      ],
      "text/plain": [
       "    down_std      mean       std  win_prob  sharpe_ratio  sortino_ratio\n",
       "0   0.048104  0.045768  0.333266      0.05      0.137333       0.951448\n",
       "1   0.018973  0.013506  0.137815      0.10      0.098001       0.711839\n",
       "2   0.014436  0.008437  0.101354      0.15      0.083248       0.584481\n",
       "3   0.011845  0.006268  0.084960      0.20      0.073780       0.529175\n",
       "4   0.010737  0.004955  0.075530      0.25      0.065597       0.461445\n",
       "5   0.009908  0.004841  0.069866      0.30      0.069287       0.488590\n",
       "6   0.009328  0.004248  0.065791      0.35      0.064572       0.455430\n",
       "7   0.008946  0.003770  0.063029      0.40      0.059820       0.421473\n",
       "8   0.008663  0.003685  0.061265      0.45      0.060156       0.425428\n",
       "9   0.008516  0.003731  0.060214      0.50      0.061959       0.438095\n",
       "10  0.008474  0.003734  0.059779      0.55      0.062466       0.440642\n",
       "11  0.008494  0.003650  0.059965      0.60      0.060864       0.429667\n",
       "12  0.008569  0.003992  0.060678      0.65      0.065793       0.465913\n",
       "13  0.008818  0.004101  0.062163      0.70      0.065971       0.465050\n",
       "14  0.009139  0.004468  0.064432      0.75      0.069338       0.488832\n",
       "15  0.009600  0.005003  0.067814      0.80      0.073769       0.521082\n",
       "16  0.010095  0.006078  0.072592      0.85      0.083723       0.602063\n",
       "17  0.010989  0.008142  0.079325      0.90      0.102637       0.740904\n",
       "18  0.012960  0.012425  0.088425      0.95      0.140512       0.958682"
      ]
     },
     "execution_count": 30,
     "metadata": {},
     "output_type": "execute_result"
    }
   ],
   "source": [
    "result"
   ]
  },
  {
   "cell_type": "code",
   "execution_count": null,
   "metadata": {
    "collapsed": true
   },
   "outputs": [],
   "source": []
  }
 ],
 "metadata": {
  "kernelspec": {
   "display_name": "Python 2",
   "language": "python",
   "name": "python2"
  },
  "language_info": {
   "codemirror_mode": {
    "name": "ipython",
    "version": 2
   },
   "file_extension": ".py",
   "mimetype": "text/x-python",
   "name": "python",
   "nbconvert_exporter": "python",
   "pygments_lexer": "ipython2",
   "version": "2.7.13"
  }
 },
 "nbformat": 4,
 "nbformat_minor": 2
}
